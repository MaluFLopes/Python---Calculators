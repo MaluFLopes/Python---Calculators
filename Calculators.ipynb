{
  "nbformat": 4,
  "nbformat_minor": 0,
  "metadata": {
    "colab": {
      "provenance": [],
      "authorship_tag": "ABX9TyMtQMTkSH7GvP8jbDxbaFgw",
      "include_colab_link": true
    },
    "kernelspec": {
      "name": "python3",
      "display_name": "Python 3"
    },
    "language_info": {
      "name": "python"
    }
  },
  "cells": [
    {
      "cell_type": "markdown",
      "metadata": {
        "id": "view-in-github",
        "colab_type": "text"
      },
      "source": [
        "<a href=\"https://colab.research.google.com/github/MaluFLopes/Python---Calculators/blob/main/Calculators.ipynb\" target=\"_parent\"><img src=\"https://colab.research.google.com/assets/colab-badge.svg\" alt=\"Open In Colab\"/></a>"
      ]
    },
    {
      "cell_type": "markdown",
      "source": [
        "# IMC Calculator"
      ],
      "metadata": {
        "id": "fOYf1c6rvUjQ"
      }
    },
    {
      "cell_type": "code",
      "execution_count": 2,
      "metadata": {
        "colab": {
          "base_uri": "https://localhost:8080/"
        },
        "id": "Bh4W2f8xjMG0",
        "outputId": "7397135d-420e-472b-d4c5-5ee86b3f0cdb"
      },
      "outputs": [
        {
          "output_type": "stream",
          "name": "stdout",
          "text": [
            "Welcome to the IMC calculator!\n",
            "Enter your name: Malu\n",
            "Enter your weight in kilograms: 52\n",
            "Enter your height in meters: 1.52\n",
            "Malu, you are normal weight!\n"
          ]
        }
      ],
      "source": [
        "print('Welcome to the IMC calculator!')\n",
        "\n",
        "name = input(\"Enter your name: \")\n",
        "\n",
        "weight = float(input(\"Enter your weight in kilograms: \"))\n",
        "\n",
        "height = float(input(\"Enter your height in meters: \"))\n",
        "\n",
        "IMC = round((weight / (height * height)),2)\n",
        "\n",
        "if (IMC>0):\n",
        "    if (IMC<18.5):\n",
        "        print(name + \", you are underweight!\")\n",
        "    elif (IMC<24.9):\n",
        "        print(name + \", you are normal weight!\")\n",
        "    elif (IMC<29.9):\n",
        "        print(name + \", you are overweight!\")\n",
        "    elif (IMC<34.9):\n",
        "        print(name + \", you are obese!\")\n",
        "    elif (IMC<39.9):\n",
        "        print(name + \", you are severely obese!\")\n",
        "    elif (IMC>=40):\n",
        "        print(name + \", you are morbidly obese!\")\n",
        "    else:\n",
        "        print(\"Enter valid inputs\")"
      ]
    },
    {
      "cell_type": "markdown",
      "source": [
        "# Area of a Parallelogram Calculator"
      ],
      "metadata": {
        "id": "ngvKaW6uv6Wc"
      }
    },
    {
      "cell_type": "code",
      "source": [
        "print('Welcome to the Area of a Parallelogram calculator!')\n",
        "\n",
        "base_length = float(input(\"Enter the base lenght of the parallelogram: \"))\n",
        "\n",
        "height = float(input(\"Enter the height of the parallelogram: \"))\n",
        "\n",
        "area = base_length * height\n",
        "\n",
        "print(f'The area of the parallelogram is: {area}')"
      ],
      "metadata": {
        "colab": {
          "base_uri": "https://localhost:8080/"
        },
        "id": "A6P0VW5VvXtz",
        "outputId": "f62ee2d0-6246-4808-e37e-c54018e31091"
      },
      "execution_count": 4,
      "outputs": [
        {
          "output_type": "stream",
          "name": "stdout",
          "text": [
            "Welcome to the Area of a Parallelogram calculator!\n",
            "Enter the base lenght of the parallelogram: 1\n",
            "Enter the height of the parallelogram: 2\n",
            "The area of the parallelogram is: 2.0\n"
          ]
        }
      ]
    },
    {
      "cell_type": "markdown",
      "source": [
        "# Simple Calculator"
      ],
      "metadata": {
        "id": "j3Kx2Fj8yId_"
      }
    },
    {
      "cell_type": "code",
      "source": [
        "print('Welcome to a Simple calculator!')\n",
        "\n",
        "variable1 = float(input(\"Enter the first variable: \"))\n",
        "\n",
        "operator = input(\"Enter the operator (+,-,/,*): \")\n",
        "\n",
        "variable2 = float(input(\"Enter the second variable: \"))\n",
        "\n",
        "if operator == '*':\n",
        "  calculator = variable1 * variable2\n",
        "  print(f'Your result is: {calculator}')\n",
        "elif operator == '/':\n",
        "  calculator = variable1 / variable2\n",
        "  print(f'Your result is: {calculator}')\n",
        "elif operator == '+':\n",
        "  calculator = variable1 + variable2\n",
        "  print(f'Your result is: {calculator}')\n",
        "elif operator == '-':\n",
        "  calculator = variable1 - variable2\n",
        "  print(f'Your result is: {calculator}')\n",
        "else:\n",
        "  print('This calculator can not provide this result, sorry!')\n"
      ],
      "metadata": {
        "colab": {
          "base_uri": "https://localhost:8080/"
        },
        "id": "MVLqbRZwyOjh",
        "outputId": "72b586db-1491-4c1e-9dec-146bccc57a68"
      },
      "execution_count": 9,
      "outputs": [
        {
          "output_type": "stream",
          "name": "stdout",
          "text": [
            "Welcome to a Simple calculator!\n",
            "Enter the first variable: 356\n",
            "Enter the operator (+,-,/,*): /\n",
            "Enter the second variable: 2\n",
            "Your result is: 178.0\n"
          ]
        }
      ]
    }
  ]
}